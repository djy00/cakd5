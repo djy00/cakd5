{
 "cells": [
  {
   "cell_type": "code",
   "execution_count": 1,
   "id": "1a30e446",
   "metadata": {},
   "outputs": [
    {
     "name": "stdout",
     "output_type": "stream",
     "text": [
      "Hello Python\n"
     ]
    }
   ],
   "source": [
    "print('Hello Python')"
   ]
  },
  {
   "cell_type": "markdown",
   "id": "511d05b7",
   "metadata": {},
   "source": [
    "# 주피터 노트북 사용법\n",
    "## 주피터 노트북 사용법\n",
    "### 주피터 노트북 사용법\n",
    "#### 주피터 노트북 사용법\n",
    "- 주피터\n",
    "- 노트북\n",
    "\n",
    "#### 주피터 노트북 사용법\n",
    "1. 주피터\n",
    "2. 노트북\n"
   ]
  },
  {
   "cell_type": "markdown",
   "id": "35e92a75",
   "metadata": {},
   "source": [
    "단축키\n",
    "- ESC를 눌러 커멘드 모드로  진입하여 Enter를 통해 Cell을 수정할 수 있다.\n",
    "- A: 위에 행 추가\n",
    "- B: 밑에 행 추가\n",
    "- X: 잘라내기\n",
    "- M: Markdown \n",
    "- Y: Code\n",
    "- Ctrl + Enter, Shift + Enter, Alt + Enter"
   ]
  },
  {
   "cell_type": "markdown",
   "id": "503efb05",
   "metadata": {},
   "source": [
    "매직명령어: 맨 앞에 %을 붙이고 특정 명령을 수행할 수 있다. 파이썬 문법에는 포함되지 않은 Jupyter notebook만의 기능\n",
    "<img src = '매직명령어.jpg' STYLE='width:800px'>\n"
   ]
  },
  {
   "cell_type": "code",
   "execution_count": 7,
   "id": "af84dbd5",
   "metadata": {},
   "outputs": [],
   "source": [
    "#- markdown 셀을 이용\n",
    "#-  $ 혹은 $$를 앞뒤로 감싸서 수식을 기술\n",
    "# * $: 문장 안에 기술해야 하는 경우\n",
    "# * $$: 전체 라인으로 표기\n",
    "#- (언더바)와 ^ 기호를 이용해서 아래첨자와 위첨자를 사용 : a_1, a_{ij}, b^2, b^{ij}, c_1^2"
   ]
  },
  {
   "cell_type": "markdown",
   "id": "dc34cbbe",
   "metadata": {},
   "source": [
    "#### 수식문법\n",
    "\n",
    "\n",
    "$a^2 + b^2 = c^2$\n",
    "\n",
    "$$ E = mc^2 $$"
   ]
  },
  {
   "cell_type": "markdown",
   "id": "bda6576f",
   "metadata": {},
   "source": [
    "https://www.youtube.com/channel/UCOlMZP-QJc0sWC2T0Rg2ZfA"
   ]
  }
 ],
 "metadata": {
  "kernelspec": {
   "display_name": "Python 3 (ipykernel)",
   "language": "python",
   "name": "python3"
  },
  "language_info": {
   "codemirror_mode": {
    "name": "ipython",
    "version": 3
   },
   "file_extension": ".py",
   "mimetype": "text/x-python",
   "name": "python",
   "nbconvert_exporter": "python",
   "pygments_lexer": "ipython3",
   "version": "3.8.12"
  }
 },
 "nbformat": 4,
 "nbformat_minor": 5
}
